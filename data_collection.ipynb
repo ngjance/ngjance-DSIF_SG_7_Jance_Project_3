{
 "cells": [
  {
   "cell_type": "code",
   "execution_count": 1,
   "id": "74ac3405",
   "metadata": {},
   "outputs": [],
   "source": [
    "import requests\n",
    "import pandas as pd\n",
    "import time"
   ]
  },
  {
   "cell_type": "code",
   "execution_count": 2,
   "id": "5f54309d",
   "metadata": {},
   "outputs": [],
   "source": [
    "pd.set_option('display.max_columns', 100)"
   ]
  },
  {
   "cell_type": "code",
   "execution_count": 3,
   "id": "b0b757cf",
   "metadata": {},
   "outputs": [],
   "source": [
    "def get_posts(subreddit, number):\n",
    "    url = 'https://api.pushshift.io/reddit/search/submission'\n",
    "    params = {\n",
    "            'subreddit': subreddit,\n",
    "            'size': 250\n",
    "        } # 'before' is added later in the while loop\n",
    "    df = pd.DataFrame() # empty dataframe for concatenating\n",
    "    returned = pd.DataFrame()\n",
    "    while True: # Need a break out of this\n",
    "        time.sleep(3)\n",
    "        \n",
    "        res = requests.get(url, params)\n",
    "        \n",
    "        data = res.json()\n",
    "        posts = data['data']\n",
    "        df = pd.DataFrame(posts)\n",
    "        \n",
    "        params['before'] = df.iloc[-1:,:]['created_utc']\n",
    "        \n",
    "        returned = pd.concat([returned, df[['subreddit','selftext','title']]], axis=0)\n",
    "        returned.drop_duplicates(inplace=True)\n",
    "        returned.dropna(inplace=True)\n",
    "        #returned.drop(returned[returned['selftext'] =='[removed]'].index, inplace = True)\n",
    "        \n",
    "        \n",
    "        if len(returned) > number:\n",
    "            break\n",
    "      \n",
    "    returned.reset_index(inplace=True,drop=True)\n",
    "    return returned[:number]"
   ]
  },
  {
   "cell_type": "code",
   "execution_count": 4,
   "id": "07243391",
   "metadata": {
    "scrolled": true
   },
   "outputs": [],
   "source": [
    "intermittentfasting = get_posts('intermittentfasting',15000)"
   ]
  },
  {
   "cell_type": "code",
   "execution_count": 5,
   "id": "11300219",
   "metadata": {
    "scrolled": false
   },
   "outputs": [
    {
     "data": {
      "text/plain": [
       "subreddit    0\n",
       "selftext     0\n",
       "title        0\n",
       "dtype: int64"
      ]
     },
     "execution_count": 5,
     "metadata": {},
     "output_type": "execute_result"
    }
   ],
   "source": [
    "intermittentfasting.isnull().sum()"
   ]
  },
  {
   "cell_type": "code",
   "execution_count": 6,
   "id": "feb1ec51",
   "metadata": {
    "scrolled": false
   },
   "outputs": [
    {
     "data": {
      "text/plain": [
       "subreddit    2710\n",
       "selftext     2710\n",
       "title        2710\n",
       "dtype: int64"
      ]
     },
     "execution_count": 6,
     "metadata": {},
     "output_type": "execute_result"
    }
   ],
   "source": [
    "intermittentfasting[(intermittentfasting['selftext']=='[removed]')].count()"
   ]
  },
  {
   "cell_type": "code",
   "execution_count": 7,
   "id": "6152166a",
   "metadata": {
    "scrolled": true
   },
   "outputs": [],
   "source": [
    "intermittentfasting.drop(intermittentfasting[(intermittentfasting['selftext'] =='[removed]')\\\n",
    "                                             |(intermittentfasting['selftext'] =='')].index, inplace = True)"
   ]
  },
  {
   "cell_type": "code",
   "execution_count": 8,
   "id": "d5c51231",
   "metadata": {
    "scrolled": true
   },
   "outputs": [],
   "source": [
    "intermittentfasting = pd.melt(intermittentfasting,id_vars='subreddit', value_vars=['selftext', 'title'],\n",
    "                              var_name='selftext_or_title', value_name='text')"
   ]
  },
  {
   "cell_type": "code",
   "execution_count": 9,
   "id": "758b6ce0",
   "metadata": {
    "scrolled": true
   },
   "outputs": [],
   "source": [
    "intermittentfasting.drop(intermittentfasting[(intermittentfasting['text'].str.split().str.len())<=20].index, inplace = True)"
   ]
  },
  {
   "cell_type": "code",
   "execution_count": 10,
   "id": "92a88098",
   "metadata": {},
   "outputs": [],
   "source": [
    "intermittentfasting.drop('selftext_or_title', axis = 1, inplace = True)"
   ]
  },
  {
   "cell_type": "code",
   "execution_count": 11,
   "id": "2b0d772b",
   "metadata": {
    "scrolled": false
   },
   "outputs": [
    {
     "data": {
      "text/plain": [
       "(7010, 2)"
      ]
     },
     "execution_count": 11,
     "metadata": {},
     "output_type": "execute_result"
    }
   ],
   "source": [
    "intermittentfasting.shape"
   ]
  },
  {
   "cell_type": "code",
   "execution_count": 12,
   "id": "3470cdd9",
   "metadata": {
    "scrolled": false
   },
   "outputs": [
    {
     "data": {
      "text/plain": [
       "subreddit    0\n",
       "text         0\n",
       "dtype: int64"
      ]
     },
     "execution_count": 12,
     "metadata": {},
     "output_type": "execute_result"
    }
   ],
   "source": [
    "intermittentfasting[(intermittentfasting['text']=='')].count()"
   ]
  },
  {
   "cell_type": "code",
   "execution_count": 13,
   "id": "c018c4b4",
   "metadata": {},
   "outputs": [
    {
     "data": {
      "text/plain": [
       "(7010, 2)"
      ]
     },
     "execution_count": 13,
     "metadata": {},
     "output_type": "execute_result"
    }
   ],
   "source": [
    "intermittentfasting.shape"
   ]
  },
  {
   "cell_type": "code",
   "execution_count": 14,
   "id": "782eac42",
   "metadata": {
    "scrolled": false
   },
   "outputs": [
    {
     "data": {
      "text/html": [
       "<div>\n",
       "<style scoped>\n",
       "    .dataframe tbody tr th:only-of-type {\n",
       "        vertical-align: middle;\n",
       "    }\n",
       "\n",
       "    .dataframe tbody tr th {\n",
       "        vertical-align: top;\n",
       "    }\n",
       "\n",
       "    .dataframe thead th {\n",
       "        text-align: right;\n",
       "    }\n",
       "</style>\n",
       "<table border=\"1\" class=\"dataframe\">\n",
       "  <thead>\n",
       "    <tr style=\"text-align: right;\">\n",
       "      <th></th>\n",
       "      <th>subreddit</th>\n",
       "      <th>text</th>\n",
       "    </tr>\n",
       "  </thead>\n",
       "  <tbody>\n",
       "    <tr>\n",
       "      <th>0</th>\n",
       "      <td>intermittentfasting</td>\n",
       "      <td>Hello everyone with a uterus! I started interm...</td>\n",
       "    </tr>\n",
       "    <tr>\n",
       "      <th>1</th>\n",
       "      <td>intermittentfasting</td>\n",
       "      <td>I have a question. I'm on 16:8 and it's going ...</td>\n",
       "    </tr>\n",
       "    <tr>\n",
       "      <th>2</th>\n",
       "      <td>intermittentfasting</td>\n",
       "      <td>was it successful for you? did you incorporate...</td>\n",
       "    </tr>\n",
       "    <tr>\n",
       "      <th>4</th>\n",
       "      <td>intermittentfasting</td>\n",
       "      <td>I started doing 16:8 for a few months and lost...</td>\n",
       "    </tr>\n",
       "    <tr>\n",
       "      <th>5</th>\n",
       "      <td>intermittentfasting</td>\n",
       "      <td>I hope everyone has a great Thanksgiving tomor...</td>\n",
       "    </tr>\n",
       "  </tbody>\n",
       "</table>\n",
       "</div>"
      ],
      "text/plain": [
       "             subreddit                                               text\n",
       "0  intermittentfasting  Hello everyone with a uterus! I started interm...\n",
       "1  intermittentfasting  I have a question. I'm on 16:8 and it's going ...\n",
       "2  intermittentfasting  was it successful for you? did you incorporate...\n",
       "4  intermittentfasting  I started doing 16:8 for a few months and lost...\n",
       "5  intermittentfasting  I hope everyone has a great Thanksgiving tomor..."
      ]
     },
     "execution_count": 14,
     "metadata": {},
     "output_type": "execute_result"
    }
   ],
   "source": [
    "intermittentfasting.head()"
   ]
  },
  {
   "cell_type": "code",
   "execution_count": 15,
   "id": "a8a5aea1",
   "metadata": {},
   "outputs": [],
   "source": [
    "keto = get_posts('keto',15000)"
   ]
  },
  {
   "cell_type": "code",
   "execution_count": 16,
   "id": "fe2e1d32",
   "metadata": {
    "scrolled": true
   },
   "outputs": [
    {
     "data": {
      "text/plain": [
       "subreddit    0\n",
       "selftext     0\n",
       "title        0\n",
       "dtype: int64"
      ]
     },
     "execution_count": 16,
     "metadata": {},
     "output_type": "execute_result"
    }
   ],
   "source": [
    "keto.isnull().sum()"
   ]
  },
  {
   "cell_type": "code",
   "execution_count": 17,
   "id": "31a59730",
   "metadata": {
    "scrolled": false
   },
   "outputs": [
    {
     "data": {
      "text/plain": [
       "subreddit    6041\n",
       "selftext     6041\n",
       "title        6041\n",
       "dtype: int64"
      ]
     },
     "execution_count": 17,
     "metadata": {},
     "output_type": "execute_result"
    }
   ],
   "source": [
    "keto[(keto['selftext']=='[removed]')].count()"
   ]
  },
  {
   "cell_type": "code",
   "execution_count": 18,
   "id": "e42e6232",
   "metadata": {},
   "outputs": [],
   "source": [
    "keto.drop(keto[(keto['selftext'] =='[removed]')|(keto['selftext'] =='')].index, inplace = True)"
   ]
  },
  {
   "cell_type": "code",
   "execution_count": 19,
   "id": "6057f548",
   "metadata": {
    "scrolled": true
   },
   "outputs": [],
   "source": [
    "keto = pd.melt(keto,id_vars='subreddit', value_vars=['selftext', 'title'],\n",
    "               var_name='selftext_or_title', value_name='text')"
   ]
  },
  {
   "cell_type": "code",
   "execution_count": 20,
   "id": "642ceffe",
   "metadata": {
    "scrolled": true
   },
   "outputs": [],
   "source": [
    "keto.drop(keto[(keto['text'].str.split().str.len())<=20].index, inplace = True)"
   ]
  },
  {
   "cell_type": "code",
   "execution_count": 21,
   "id": "2c6c3ec2",
   "metadata": {},
   "outputs": [],
   "source": [
    "keto.drop('selftext_or_title', axis = 1, inplace = True)"
   ]
  },
  {
   "cell_type": "code",
   "execution_count": 22,
   "id": "d66f8b49",
   "metadata": {},
   "outputs": [
    {
     "data": {
      "text/plain": [
       "subreddit    0\n",
       "text         0\n",
       "dtype: int64"
      ]
     },
     "execution_count": 22,
     "metadata": {},
     "output_type": "execute_result"
    }
   ],
   "source": [
    "keto[(keto['text']=='')].count()"
   ]
  },
  {
   "cell_type": "code",
   "execution_count": 23,
   "id": "7e15d65a",
   "metadata": {},
   "outputs": [
    {
     "data": {
      "text/plain": [
       "(9011, 2)"
      ]
     },
     "execution_count": 23,
     "metadata": {},
     "output_type": "execute_result"
    }
   ],
   "source": [
    "keto.shape"
   ]
  },
  {
   "cell_type": "code",
   "execution_count": 24,
   "id": "d3311752",
   "metadata": {
    "scrolled": false
   },
   "outputs": [
    {
     "data": {
      "text/html": [
       "<div>\n",
       "<style scoped>\n",
       "    .dataframe tbody tr th:only-of-type {\n",
       "        vertical-align: middle;\n",
       "    }\n",
       "\n",
       "    .dataframe tbody tr th {\n",
       "        vertical-align: top;\n",
       "    }\n",
       "\n",
       "    .dataframe thead th {\n",
       "        text-align: right;\n",
       "    }\n",
       "</style>\n",
       "<table border=\"1\" class=\"dataframe\">\n",
       "  <thead>\n",
       "    <tr style=\"text-align: right;\">\n",
       "      <th></th>\n",
       "      <th>subreddit</th>\n",
       "      <th>text</th>\n",
       "    </tr>\n",
       "  </thead>\n",
       "  <tbody>\n",
       "    <tr>\n",
       "      <th>0</th>\n",
       "      <td>keto</td>\n",
       "      <td>So I started keto 3 weeks ago and I never had ...</td>\n",
       "    </tr>\n",
       "    <tr>\n",
       "      <th>1</th>\n",
       "      <td>keto</td>\n",
       "      <td>I made this Keto breakfast egg muffin. No suga...</td>\n",
       "    </tr>\n",
       "    <tr>\n",
       "      <th>2</th>\n",
       "      <td>keto</td>\n",
       "      <td>So I’m down 25LBs in 5 weeks on a semi-strict ...</td>\n",
       "    </tr>\n",
       "    <tr>\n",
       "      <th>3</th>\n",
       "      <td>keto</td>\n",
       "      <td>Hi guys!\\nI’m 28y, fit, and do martial arts ab...</td>\n",
       "    </tr>\n",
       "    <tr>\n",
       "      <th>4</th>\n",
       "      <td>keto</td>\n",
       "      <td>Is there any success with reds in particular? ...</td>\n",
       "    </tr>\n",
       "  </tbody>\n",
       "</table>\n",
       "</div>"
      ],
      "text/plain": [
       "  subreddit                                               text\n",
       "0      keto  So I started keto 3 weeks ago and I never had ...\n",
       "1      keto  I made this Keto breakfast egg muffin. No suga...\n",
       "2      keto  So I’m down 25LBs in 5 weeks on a semi-strict ...\n",
       "3      keto  Hi guys!\\nI’m 28y, fit, and do martial arts ab...\n",
       "4      keto  Is there any success with reds in particular? ..."
      ]
     },
     "execution_count": 24,
     "metadata": {},
     "output_type": "execute_result"
    }
   ],
   "source": [
    "keto.head()"
   ]
  },
  {
   "cell_type": "code",
   "execution_count": 25,
   "id": "0264eddc",
   "metadata": {},
   "outputs": [],
   "source": [
    "intermittentfasting.to_csv('./data/intermittentfasting.csv', index=False)"
   ]
  },
  {
   "cell_type": "code",
   "execution_count": 26,
   "id": "9eaa2bd8",
   "metadata": {},
   "outputs": [],
   "source": [
    "keto.to_csv('./data/keto.csv', index=False)"
   ]
  },
  {
   "cell_type": "code",
   "execution_count": 27,
   "id": "3a966e1d",
   "metadata": {},
   "outputs": [
    {
     "data": {
      "text/plain": [
       "(16021, 2)"
      ]
     },
     "execution_count": 27,
     "metadata": {},
     "output_type": "execute_result"
    }
   ],
   "source": [
    "combined = pd.concat([intermittentfasting,keto])\n",
    "combined.shape"
   ]
  },
  {
   "cell_type": "code",
   "execution_count": 28,
   "id": "a8740080",
   "metadata": {},
   "outputs": [],
   "source": [
    "combined.to_csv('./data/combined.csv', index=False)"
   ]
  }
 ],
 "metadata": {
  "kernelspec": {
   "display_name": "Python 3 (ipykernel)",
   "language": "python",
   "name": "python3"
  },
  "language_info": {
   "codemirror_mode": {
    "name": "ipython",
    "version": 3
   },
   "file_extension": ".py",
   "mimetype": "text/x-python",
   "name": "python",
   "nbconvert_exporter": "python",
   "pygments_lexer": "ipython3",
   "version": "3.9.12"
  }
 },
 "nbformat": 4,
 "nbformat_minor": 5
}
