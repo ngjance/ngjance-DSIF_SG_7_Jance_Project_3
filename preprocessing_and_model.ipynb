{
 "cells": [
  {
   "cell_type": "code",
   "execution_count": 1,
   "id": "74ac3405",
   "metadata": {},
   "outputs": [],
   "source": [
    "import requests\n",
    "import pandas as pd\n",
    "import time\n",
    "import seaborn as sns\n",
    "from nltk.corpus import stopwords\n",
    "from collections import  Counter\n",
    "import matplotlib.pyplot as plt\n",
    "import numpy as np"
   ]
  },
  {
   "cell_type": "code",
   "execution_count": 2,
   "id": "3a966e1d",
   "metadata": {},
   "outputs": [],
   "source": [
    "combined = pd.read_csv('./data/combined.csv')"
   ]
  },
  {
   "cell_type": "code",
   "execution_count": 3,
   "id": "a8740080",
   "metadata": {},
   "outputs": [
    {
     "data": {
      "text/html": [
       "<div>\n",
       "<style scoped>\n",
       "    .dataframe tbody tr th:only-of-type {\n",
       "        vertical-align: middle;\n",
       "    }\n",
       "\n",
       "    .dataframe tbody tr th {\n",
       "        vertical-align: top;\n",
       "    }\n",
       "\n",
       "    .dataframe thead th {\n",
       "        text-align: right;\n",
       "    }\n",
       "</style>\n",
       "<table border=\"1\" class=\"dataframe\">\n",
       "  <thead>\n",
       "    <tr style=\"text-align: right;\">\n",
       "      <th></th>\n",
       "      <th>subreddit</th>\n",
       "      <th>text</th>\n",
       "    </tr>\n",
       "  </thead>\n",
       "  <tbody>\n",
       "    <tr>\n",
       "      <th>0</th>\n",
       "      <td>intermittentfasting</td>\n",
       "      <td>Hello everyone with a uterus! I started interm...</td>\n",
       "    </tr>\n",
       "    <tr>\n",
       "      <th>1</th>\n",
       "      <td>intermittentfasting</td>\n",
       "      <td>I have a question. I'm on 16:8 and it's going ...</td>\n",
       "    </tr>\n",
       "    <tr>\n",
       "      <th>2</th>\n",
       "      <td>intermittentfasting</td>\n",
       "      <td>was it successful for you? did you incorporate...</td>\n",
       "    </tr>\n",
       "    <tr>\n",
       "      <th>3</th>\n",
       "      <td>intermittentfasting</td>\n",
       "      <td>I started doing 16:8 for a few months and lost...</td>\n",
       "    </tr>\n",
       "    <tr>\n",
       "      <th>4</th>\n",
       "      <td>intermittentfasting</td>\n",
       "      <td>I hope everyone has a great Thanksgiving tomor...</td>\n",
       "    </tr>\n",
       "  </tbody>\n",
       "</table>\n",
       "</div>"
      ],
      "text/plain": [
       "             subreddit                                               text\n",
       "0  intermittentfasting  Hello everyone with a uterus! I started interm...\n",
       "1  intermittentfasting  I have a question. I'm on 16:8 and it's going ...\n",
       "2  intermittentfasting  was it successful for you? did you incorporate...\n",
       "3  intermittentfasting  I started doing 16:8 for a few months and lost...\n",
       "4  intermittentfasting  I hope everyone has a great Thanksgiving tomor..."
      ]
     },
     "execution_count": 3,
     "metadata": {},
     "output_type": "execute_result"
    }
   ],
   "source": [
    "combined.head()"
   ]
  },
  {
   "cell_type": "code",
   "execution_count": 4,
   "id": "95c54002",
   "metadata": {},
   "outputs": [
    {
     "data": {
      "text/plain": [
       "(16021, 2)"
      ]
     },
     "execution_count": 4,
     "metadata": {},
     "output_type": "execute_result"
    }
   ],
   "source": [
    "combined.shape"
   ]
  },
  {
   "cell_type": "markdown",
   "id": "898c24c0",
   "metadata": {},
   "source": [
    "### Preprocessing\n",
    "---"
   ]
  },
  {
   "cell_type": "code",
   "execution_count": 5,
   "id": "7e6768f5",
   "metadata": {},
   "outputs": [],
   "source": [
    "from nltk.stem import WordNetLemmatizer"
   ]
  },
  {
   "cell_type": "code",
   "execution_count": 6,
   "id": "ac2fc40b",
   "metadata": {},
   "outputs": [],
   "source": [
    "from nltk import word_tokenize"
   ]
  },
  {
   "cell_type": "code",
   "execution_count": 7,
   "id": "00a6a6b0",
   "metadata": {},
   "outputs": [],
   "source": [
    "import re"
   ]
  },
  {
   "cell_type": "code",
   "execution_count": 8,
   "id": "779e2427",
   "metadata": {},
   "outputs": [],
   "source": [
    "# Convert all text to lower case\n",
    "combined['text'] = combined['text'].apply(lambda x: x.lower())"
   ]
  },
  {
   "cell_type": "code",
   "execution_count": 9,
   "id": "1da72cb8",
   "metadata": {
    "scrolled": true
   },
   "outputs": [],
   "source": [
    "# Remove numbers and other numeric values\n",
    "\n",
    "def remove_numbers(text):\n",
    "    number_pattern = r'\\d+'\n",
    "    without_number = re.sub(pattern=number_pattern, repl=\" \", string=text)\n",
    "    return without_number\n",
    "\n",
    "combined['text'] = combined['text'].apply(lambda x: remove_numbers(x))"
   ]
  },
  {
   "cell_type": "code",
   "execution_count": 10,
   "id": "efdafbd4",
   "metadata": {},
   "outputs": [],
   "source": [
    "# Remove punctuations\n",
    "\n",
    "import string\n",
    "\n",
    "def remove_punctuation(text):\n",
    "    return text.translate(str.maketrans('', '', string.punctuation))\n",
    "\n",
    "combined['text'] = combined['text'].apply(lambda x: remove_punctuation(x))"
   ]
  },
  {
   "cell_type": "code",
   "execution_count": 11,
   "id": "8bb5a578",
   "metadata": {},
   "outputs": [],
   "source": [
    "# Remove stop words\n",
    "\n",
    "from nltk.corpus import stopwords\n",
    "\n",
    "def remove_stopwords(text):\n",
    "    removed = []\n",
    "    stop_words = list(stopwords.words(\"english\"))\n",
    "    tokens = word_tokenize(text)\n",
    "    for i in range(len(tokens)):\n",
    "        if tokens[i] not in stop_words:\n",
    "            removed.append(tokens[i])\n",
    "    return \" \".join(removed)\n",
    "\n",
    "combined['text'] = combined['text'].apply(lambda x: remove_stopwords(x))"
   ]
  },
  {
   "cell_type": "code",
   "execution_count": 12,
   "id": "25bf0057",
   "metadata": {},
   "outputs": [],
   "source": [
    "# Remove extra white spaces\n",
    "\n",
    "def remove_extra_white_spaces(text):\n",
    "    single_char_pattern = r'\\s+[a-zA-Z]\\s+'\n",
    "    without_sc = re.sub(pattern=single_char_pattern, repl=\" \", string=text)\n",
    "    return without_sc\n",
    "\n",
    "combined['text'] = combined['text'].apply(lambda x: remove_extra_white_spaces(x))"
   ]
  },
  {
   "cell_type": "code",
   "execution_count": 13,
   "id": "65df1678",
   "metadata": {},
   "outputs": [],
   "source": [
    "# Lemmatizing\n",
    "\n",
    "def lemmatizing(text):\n",
    "    lemmatizer = WordNetLemmatizer()\n",
    "    tokens = word_tokenize(text)\n",
    "    for i in range(len(tokens)):\n",
    "        lemma_word = lemmatizer.lemmatize(tokens[i])\n",
    "        tokens[i] = lemma_word\n",
    "    return \" \".join(tokens)\n",
    "\n",
    "combined['text'] = combined['text'].apply(lambda x: lemmatizing(x))"
   ]
  },
  {
   "cell_type": "code",
   "execution_count": 14,
   "id": "613cd94f",
   "metadata": {},
   "outputs": [],
   "source": [
    "# Convert subreddit into integer\n",
    "\n",
    "subreddit_map = {\n",
    "    'intermittentfasting': 0,\n",
    "    'keto': 1,\n",
    "}\n",
    "\n",
    "combined['subreddit'] = combined['subreddit'].map(subreddit_map)"
   ]
  },
  {
   "cell_type": "code",
   "execution_count": 15,
   "id": "3b1e9ffc",
   "metadata": {
    "scrolled": true
   },
   "outputs": [
    {
     "data": {
      "text/html": [
       "<div>\n",
       "<style scoped>\n",
       "    .dataframe tbody tr th:only-of-type {\n",
       "        vertical-align: middle;\n",
       "    }\n",
       "\n",
       "    .dataframe tbody tr th {\n",
       "        vertical-align: top;\n",
       "    }\n",
       "\n",
       "    .dataframe thead th {\n",
       "        text-align: right;\n",
       "    }\n",
       "</style>\n",
       "<table border=\"1\" class=\"dataframe\">\n",
       "  <thead>\n",
       "    <tr style=\"text-align: right;\">\n",
       "      <th></th>\n",
       "      <th>subreddit</th>\n",
       "      <th>text</th>\n",
       "    </tr>\n",
       "  </thead>\n",
       "  <tbody>\n",
       "    <tr>\n",
       "      <th>0</th>\n",
       "      <td>0</td>\n",
       "      <td>hello everyone uterus started intermittent fas...</td>\n",
       "    </tr>\n",
       "    <tr>\n",
       "      <th>1</th>\n",
       "      <td>0</td>\n",
       "      <td>question im going fine thing im battling taste...</td>\n",
       "    </tr>\n",
       "    <tr>\n",
       "      <th>2</th>\n",
       "      <td>0</td>\n",
       "      <td>successful incorporate workout routine fasting...</td>\n",
       "    </tr>\n",
       "    <tr>\n",
       "      <th>3</th>\n",
       "      <td>0</td>\n",
       "      <td>started month lost pound couldnt see differenc...</td>\n",
       "    </tr>\n",
       "    <tr>\n",
       "      <th>4</th>\n",
       "      <td>0</td>\n",
       "      <td>hope everyone great thanksgiving tomorrow spir...</td>\n",
       "    </tr>\n",
       "  </tbody>\n",
       "</table>\n",
       "</div>"
      ],
      "text/plain": [
       "   subreddit                                               text\n",
       "0          0  hello everyone uterus started intermittent fas...\n",
       "1          0  question im going fine thing im battling taste...\n",
       "2          0  successful incorporate workout routine fasting...\n",
       "3          0  started month lost pound couldnt see differenc...\n",
       "4          0  hope everyone great thanksgiving tomorrow spir..."
      ]
     },
     "execution_count": 15,
     "metadata": {},
     "output_type": "execute_result"
    }
   ],
   "source": [
    "combined.head()"
   ]
  },
  {
   "cell_type": "markdown",
   "id": "c9c25c88",
   "metadata": {},
   "source": [
    "### Text Vectorization\n",
    "---"
   ]
  },
  {
   "cell_type": "code",
   "execution_count": 16,
   "id": "4e90a2b4",
   "metadata": {},
   "outputs": [],
   "source": [
    "from sklearn.feature_extraction.text import TfidfVectorizer\n",
    "tf_wb= TfidfVectorizer()"
   ]
  },
  {
   "cell_type": "code",
   "execution_count": 17,
   "id": "dd849221",
   "metadata": {},
   "outputs": [],
   "source": [
    "X_tf = tf_wb.fit_transform(combined['text'])"
   ]
  },
  {
   "cell_type": "markdown",
   "id": "a0c26e53",
   "metadata": {},
   "source": [
    "#### Convert the sparse matrix into an array"
   ]
  },
  {
   "cell_type": "code",
   "execution_count": 18,
   "id": "86e5ed3a",
   "metadata": {},
   "outputs": [],
   "source": [
    "import numpy as np\n",
    "X_tf = X_tf.toarray()"
   ]
  },
  {
   "cell_type": "markdown",
   "id": "d0d0b53c",
   "metadata": {},
   "source": [
    "### Split the vectorized dataset"
   ]
  },
  {
   "cell_type": "code",
   "execution_count": 19,
   "id": "7155a9f1",
   "metadata": {},
   "outputs": [],
   "source": [
    "from sklearn.model_selection import train_test_split\n",
    "\n",
    "X_train_tf, X_test_tf, y_train_tf, y_test_tf = train_test_split(X_tf,\n",
    "                                                                combined['subreddit'].values,\n",
    "                                                                test_size=0.2,\n",
    "                                                                random_state=42\n",
    "                                                               )"
   ]
  },
  {
   "cell_type": "markdown",
   "id": "315597bf",
   "metadata": {},
   "source": [
    "### Base Model - Random Forest Classifer\n",
    "---"
   ]
  },
  {
   "cell_type": "code",
   "execution_count": 20,
   "id": "42cabb07",
   "metadata": {},
   "outputs": [
    {
     "data": {
      "text/plain": [
       "RandomForestClassifier(random_state=42)"
      ]
     },
     "execution_count": 20,
     "metadata": {},
     "output_type": "execute_result"
    }
   ],
   "source": [
    "from sklearn.ensemble import RandomForestClassifier\n",
    "rf = RandomForestClassifier(random_state=42)\n",
    "rf.fit(X_train_tf, y_train_tf)"
   ]
  },
  {
   "cell_type": "code",
   "execution_count": 21,
   "id": "5231a363",
   "metadata": {},
   "outputs": [],
   "source": [
    "# prediction\n",
    "rf_pred= rf.predict(X_test_tf)"
   ]
  },
  {
   "cell_type": "code",
   "execution_count": 22,
   "id": "8a3b96fb",
   "metadata": {},
   "outputs": [
    {
     "data": {
      "text/plain": [
       "0.9017160686427457"
      ]
     },
     "execution_count": 22,
     "metadata": {},
     "output_type": "execute_result"
    }
   ],
   "source": [
    "# Accuracy score\n",
    "from sklearn.metrics import accuracy_score\n",
    "accuracy_score(y_test_tf, rf_pred)"
   ]
  },
  {
   "cell_type": "code",
   "execution_count": 23,
   "id": "2fcb92c1",
   "metadata": {
    "scrolled": true
   },
   "outputs": [
    {
     "data": {
      "text/plain": [
       "0.31350268157904854"
      ]
     },
     "execution_count": 23,
     "metadata": {},
     "output_type": "execute_result"
    }
   ],
   "source": [
    "# RMSE\n",
    "from sklearn.metrics import mean_squared_error as mse\n",
    "mse(y_test_tf, rf_pred, squared=False)"
   ]
  },
  {
   "cell_type": "markdown",
   "id": "4a8ea2ad",
   "metadata": {},
   "source": [
    "#### Confusion Matrix"
   ]
  },
  {
   "cell_type": "code",
   "execution_count": 24,
   "id": "727d6425",
   "metadata": {},
   "outputs": [],
   "source": [
    "from sklearn.metrics import confusion_matrix, plot_confusion_matrix, accuracy_score, plot_roc_curve, roc_auc_score, recall_score, precision_score, f1_score"
   ]
  },
  {
   "cell_type": "code",
   "execution_count": 25,
   "id": "a189cd3a",
   "metadata": {},
   "outputs": [
    {
     "data": {
      "text/plain": [
       "array([[1221,  171],\n",
       "       [ 144, 1669]], dtype=int64)"
      ]
     },
     "execution_count": 25,
     "metadata": {},
     "output_type": "execute_result"
    }
   ],
   "source": [
    "confusion_matrix(y_test_tf, rf_pred)"
   ]
  },
  {
   "cell_type": "code",
   "execution_count": 26,
   "id": "7e1851a2",
   "metadata": {},
   "outputs": [
    {
     "name": "stderr",
     "output_type": "stream",
     "text": [
      "C:\\Users\\ng_li\\anaconda3\\lib\\site-packages\\sklearn\\utils\\deprecation.py:87: FutureWarning: Function plot_confusion_matrix is deprecated; Function `plot_confusion_matrix` is deprecated in 1.0 and will be removed in 1.2. Use one of the class methods: ConfusionMatrixDisplay.from_predictions or ConfusionMatrixDisplay.from_estimator.\n",
      "  warnings.warn(msg, category=FutureWarning)\n"
     ]
    },
    {
     "data": {
      "image/png": "[encoded data removed]",
      "text/plain": [
       "<Figure size 432x288 with 2 Axes>"
      ]
     },
     "metadata": {
      "needs_background": "light"
     },
     "output_type": "display_data"
    }
   ],
   "source": [
    "plot_confusion_matrix(rf, X_test_tf, y_test_tf, cmap='Blues', \n",
    "                      values_format='d');"
   ]
  },
  {
   "cell_type": "markdown",
   "id": "0de88f85",
   "metadata": {},
   "source": [
    "### Balance the Data\n",
    "---"
   ]
  },
  {
   "cell_type": "code",
   "execution_count": 27,
   "id": "32a04526",
   "metadata": {},
   "outputs": [],
   "source": [
    "# import libraries\n",
    "from imblearn.over_sampling import SMOTE\n",
    "from  imblearn.under_sampling import RandomUnderSampler\n",
    "from imblearn.combine import SMOTETomek"
   ]
  },
  {
   "cell_type": "code",
   "execution_count": 28,
   "id": "4e424b05",
   "metadata": {},
   "outputs": [],
   "source": [
    "# split dataset\n",
    "X_train, X_test, y_train, y_test = train_test_split(combined['text'],\n",
    "                                                    combined['subreddit'].values,\n",
    "                                                    test_size=0.2,\n",
    "                                                    random_state=42\n",
    "                                                   )"
   ]
  },
  {
   "cell_type": "markdown",
   "id": "545dc54d",
   "metadata": {},
   "source": [
    "#### Set up the counter"
   ]
  },
  {
   "cell_type": "code",
   "execution_count": 29,
   "id": "f38b94f5",
   "metadata": {},
   "outputs": [],
   "source": [
    "from collections import Counter"
   ]
  },
  {
   "cell_type": "code",
   "execution_count": 30,
   "id": "f9d1a339",
   "metadata": {},
   "outputs": [
    {
     "data": {
      "text/plain": [
       "Counter({0: 5618, 1: 7198})"
      ]
     },
     "execution_count": 30,
     "metadata": {},
     "output_type": "execute_result"
    }
   ],
   "source": [
    "Counter(y_train)"
   ]
  },
  {
   "cell_type": "markdown",
   "id": "0595ff67",
   "metadata": {},
   "source": [
    "#### Vectorize X"
   ]
  },
  {
   "cell_type": "code",
   "execution_count": 31,
   "id": "34919e10",
   "metadata": {},
   "outputs": [],
   "source": [
    "# Vectorize X_train\n",
    "\n",
    "vectorizer = TfidfVectorizer()\n",
    "vectorizer.fit(X_train)\n",
    "\n",
    "X_train_tf = vectorizer.transform(X_train)\n",
    "X_train_tf = X_train_tf.toarray()"
   ]
  },
  {
   "cell_type": "code",
   "execution_count": 32,
   "id": "1eca8882",
   "metadata": {},
   "outputs": [],
   "source": [
    "# Vectorize X_test\n",
    "\n",
    "X_test_tf = vectorizer.transform(X_test)\n",
    "X_test_tf = X_test_tf.toarray()"
   ]
  },
  {
   "cell_type": "markdown",
   "id": "27772f51",
   "metadata": {},
   "source": [
    "#### Test different sampler with the base model"
   ]
  },
  {
   "cell_type": "code",
   "execution_count": 33,
   "id": "0f28f774",
   "metadata": {},
   "outputs": [],
   "source": [
    "s = 42"
   ]
  },
  {
   "cell_type": "code",
   "execution_count": 34,
   "id": "e1aae929",
   "metadata": {},
   "outputs": [],
   "source": [
    "samplers = {\"RandomUnderSampler\": RandomUnderSampler(random_state=s),\n",
    "            \"SMOTE\": SMOTE(random_state=s),\n",
    "            \"SMOTETomek\": SMOTETomek(random_state=s)\n",
    "         }"
   ]
  },
  {
   "cell_type": "code",
   "execution_count": 35,
   "id": "9c10c0f4",
   "metadata": {},
   "outputs": [
    {
     "name": "stdout",
     "output_type": "stream",
     "text": [
      "RandomUnderSampler\n",
      "    Counter({0: 5618, 1: 5618})\n",
      "    accuracy_score: 0.8929797191887675\n",
      "    rmse: 0.3271395433316377\n",
      "    f1_score: 0.9028603794958935\n",
      "\n",
      "SMOTE\n",
      "    Counter({0: 7198, 1: 7198})\n",
      "    accuracy_score: 0.8967238689547582\n",
      "    rmse: 0.321366039035306\n",
      "    f1_score: 0.9075160659402067\n",
      "\n",
      "SMOTETomek\n",
      "    Counter({0: 7165, 1: 7165})\n",
      "    accuracy_score: 0.9051482059282371\n",
      "    rmse: 0.30798018454401066\n",
      "    f1_score: 0.9150363331470096\n",
      "\n"
     ]
    }
   ],
   "source": [
    "for name, sampler in samplers.items():\n",
    "    X_train_s, y_train_s = sampler.fit_resample(X_train_tf, y_train)\n",
    "    counter = Counter(y_train_s)\n",
    "    rf.fit(X_train_s, y_train_s)\n",
    "    rf_pred_s = rf.predict(X_test_tf)\n",
    "    accuracy = accuracy_score(y_test, rf_pred_s)\n",
    "    rmse = mse(y_test, rf_pred_s, squared=False)\n",
    "    f1 = f1_score(y_test, rf_pred_s)\n",
    "    print(f\"{name}\\n\\\n",
    "    {counter}\\n\\\n",
    "    accuracy_score: {accuracy}\\n\\\n",
    "    rmse: {rmse}\\n\\\n",
    "    f1_score: {f1}\\n\")"
   ]
  },
  {
   "cell_type": "markdown",
   "id": "30b04939",
   "metadata": {},
   "source": [
    "**Conclusion**:<br>\n",
    "All three samplers produce very similar outcomes.<br>\n",
    "However, SMOTETomek gives the best accuracy and F1 score with lowest RMSE.\n",
    "Hence, we will use SMOTETomek."
   ]
  },
  {
   "cell_type": "markdown",
   "id": "ae9c6d25",
   "metadata": {},
   "source": [
    "### Balance the data with SMOTETomek\n",
    "---"
   ]
  },
  {
   "cell_type": "code",
   "execution_count": 36,
   "id": "ea576480",
   "metadata": {},
   "outputs": [
    {
     "data": {
      "text/plain": [
       "Counter({0: 7165, 1: 7165})"
      ]
     },
     "execution_count": 36,
     "metadata": {},
     "output_type": "execute_result"
    }
   ],
   "source": [
    "X_train_s, y_train_s = samplers['SMOTETomek'].fit_resample(X_train_tf, y_train)\n",
    "Counter(y_train_s)"
   ]
  },
  {
   "cell_type": "markdown",
   "id": "da85e34d",
   "metadata": {},
   "source": [
    "### Comparison with Random Forest\n",
    "---"
   ]
  },
  {
   "cell_type": "code",
   "execution_count": 37,
   "id": "23e091c2",
   "metadata": {},
   "outputs": [],
   "source": [
    "from sklearn.linear_model import LinearRegression, LogisticRegression\n",
    "from sklearn.model_selection import train_test_split, cross_val_score, KFold\n",
    "from sklearn.preprocessing import StandardScaler\n",
    "from sklearn.pipeline import Pipeline\n",
    "from sklearn.neighbors import KNeighborsClassifier\n",
    "from sklearn.tree import DecisionTreeClassifier\n",
    "from sklearn.ensemble import RandomForestClassifier, BaggingClassifier, AdaBoostClassifier\n",
    "import xgboost as xgb"
   ]
  },
  {
   "cell_type": "code",
   "execution_count": 38,
   "id": "247cd4e0",
   "metadata": {},
   "outputs": [],
   "source": [
    "models = {\"LogisticRegression\": LogisticRegression(random_state=s),\n",
    "          \"Random Forest\": RandomForestClassifier(random_state=s),\n",
    "          \"Bagging\": BaggingClassifier(random_state=s),\n",
    "          \"XGBoost\": xgb.XGBClassifier(seed=s)\n",
    "         }"
   ]
  },
  {
   "cell_type": "code",
   "execution_count": 39,
   "id": "13fabebb",
   "metadata": {
    "scrolled": false
   },
   "outputs": [
    {
     "name": "stdout",
     "output_type": "stream",
     "text": [
      "LogisticRegression Train Set Accuracy: 0.9468946266573621 \n",
      "    LogisticRegression Test Set Accuracy: 0.9051482059282371 \n",
      "\n",
      "Random Forest Train Set Accuracy: 0.9997208653175157 \n",
      "    Random Forest Test Set Accuracy: 0.9051482059282371 \n",
      "\n",
      "Bagging Train Set Accuracy: 0.9908583391486392 \n",
      "    Bagging Test Set Accuracy: 0.88798751950078 \n",
      "\n",
      "XGBoost Train Set Accuracy: 0.9729937194696441 \n",
      "    XGBoost Test Set Accuracy: 0.9110764430577223 \n",
      "\n"
     ]
    }
   ],
   "source": [
    "for key, model in models.items():\n",
    "    model.fit(X_train_s, y_train_s)\n",
    "    train_score = model.score(X_train_s, y_train_s)\n",
    "    test_score = model.score(X_test_tf, y_test)\n",
    "    print(f\"{key} Train Set Accuracy: {train_score} \\n\\\n",
    "    {key} Test Set Accuracy: {test_score} \\n\")"
   ]
  },
  {
   "cell_type": "markdown",
   "id": "60e0d55b",
   "metadata": {},
   "source": [
    "There is overfitting for all models.\n",
    "Some tuning is needed to reduce the overfitting."
   ]
  },
  {
   "cell_type": "markdown",
   "id": "6feb682e",
   "metadata": {},
   "source": [
    "#### Confusion Matrix"
   ]
  },
  {
   "cell_type": "code",
   "execution_count": 40,
   "id": "b4072647",
   "metadata": {},
   "outputs": [],
   "source": [
    "def plot_cm(m):\n",
    "    \n",
    "    y_pred_test = m.predict(X_test_tf)\n",
    "    \n",
    "    confusion_matrix(y_test, \n",
    "                 y_pred_test)\n",
    "    \n",
    "    plot_confusion_matrix(m, X_test_tf, y_test, cmap='Blues', \n",
    "                      values_format='d', display_labels=['keto', 'inter'])"
   ]
  },
  {
   "cell_type": "code",
   "execution_count": 41,
   "id": "c7313869",
   "metadata": {
    "scrolled": false
   },
   "outputs": [
    {
     "name": "stderr",
     "output_type": "stream",
     "text": [
      "C:\\Users\\ng_li\\anaconda3\\lib\\site-packages\\sklearn\\utils\\deprecation.py:87: FutureWarning: Function plot_confusion_matrix is deprecated; Function `plot_confusion_matrix` is deprecated in 1.0 and will be removed in 1.2. Use one of the class methods: ConfusionMatrixDisplay.from_predictions or ConfusionMatrixDisplay.from_estimator.\n",
      "  warnings.warn(msg, category=FutureWarning)\n"
     ]
    },
    {
     "data": {
      "image/png": "[encoded data removed]",
      "text/plain": [
       "<Figure size 432x288 with 2 Axes>"
      ]
     },
     "metadata": {
      "needs_background": "light"
     },
     "output_type": "display_data"
    }
   ],
   "source": [
    "plot_cm(models['LogisticRegression'])"
   ]
  },
  {
   "cell_type": "code",
   "execution_count": 42,
   "id": "8c9d1082",
   "metadata": {},
   "outputs": [
    {
     "name": "stderr",
     "output_type": "stream",
     "text": [
      "C:\\Users\\ng_li\\anaconda3\\lib\\site-packages\\sklearn\\utils\\deprecation.py:87: FutureWarning: Function plot_confusion_matrix is deprecated; Function `plot_confusion_matrix` is deprecated in 1.0 and will be removed in 1.2. Use one of the class methods: ConfusionMatrixDisplay.from_predictions or ConfusionMatrixDisplay.from_estimator.\n",
      "  warnings.warn(msg, category=FutureWarning)\n"
     ]
    },
    {
     "data": {
      "image/png": "[encoded data removed]",
      "text/plain": [
       "<Figure size 432x288 with 2 Axes>"
      ]
     },
     "metadata": {
      "needs_background": "light"
     },
     "output_type": "display_data"
    }
   ],
   "source": [
    "plot_cm(models['Random Forest'])"
   ]
  },
  {
   "cell_type": "code",
   "execution_count": 43,
   "id": "860be720",
   "metadata": {},
   "outputs": [
    {
     "name": "stderr",
     "output_type": "stream",
     "text": [
      "C:\\Users\\ng_li\\anaconda3\\lib\\site-packages\\sklearn\\utils\\deprecation.py:87: FutureWarning: Function plot_confusion_matrix is deprecated; Function `plot_confusion_matrix` is deprecated in 1.0 and will be removed in 1.2. Use one of the class methods: ConfusionMatrixDisplay.from_predictions or ConfusionMatrixDisplay.from_estimator.\n",
      "  warnings.warn(msg, category=FutureWarning)\n"
     ]
    },
    {
     "data": {
      "image/png": "[encoded data removed]",
      "text/plain": [
       "<Figure size 432x288 with 2 Axes>"
      ]
     },
     "metadata": {
      "needs_background": "light"
     },
     "output_type": "display_data"
    }
   ],
   "source": [
    "plot_cm(models['Bagging'])"
   ]
  },
  {
   "cell_type": "code",
   "execution_count": 44,
   "id": "ddde8df6",
   "metadata": {
    "scrolled": true
   },
   "outputs": [
    {
     "name": "stderr",
     "output_type": "stream",
     "text": [
      "C:\\Users\\ng_li\\anaconda3\\lib\\site-packages\\sklearn\\utils\\deprecation.py:87: FutureWarning: Function plot_confusion_matrix is deprecated; Function `plot_confusion_matrix` is deprecated in 1.0 and will be removed in 1.2. Use one of the class methods: ConfusionMatrixDisplay.from_predictions or ConfusionMatrixDisplay.from_estimator.\n",
      "  warnings.warn(msg, category=FutureWarning)\n"
     ]
    },
    {
     "data": {
      "image/png": "[encoded data removed]",
      "text/plain": [
       "<Figure size 432x288 with 2 Axes>"
      ]
     },
     "metadata": {
      "needs_background": "light"
     },
     "output_type": "display_data"
    }
   ],
   "source": [
    "plot_cm(models['XGBoost'])"
   ]
  },
  {
   "cell_type": "markdown",
   "id": "028de69a",
   "metadata": {},
   "source": [
    "XGBoost has the lowest Type 1 error although the accuracy score is the second lowest."
   ]
  },
  {
   "cell_type": "markdown",
   "id": "0391cb18",
   "metadata": {},
   "source": [
    "#### F1 Score"
   ]
  },
  {
   "cell_type": "code",
   "execution_count": 45,
   "id": "cb04c5ee",
   "metadata": {},
   "outputs": [],
   "source": [
    "def f1(m):\n",
    "    \n",
    "    y_pred_test = m.predict(X_test_tf)\n",
    "    \n",
    "    f1score = f1_score(y_test, y_pred_test)\n",
    "    \n",
    "    return f1score"
   ]
  },
  {
   "cell_type": "code",
   "execution_count": 46,
   "id": "9d66568b",
   "metadata": {
    "scrolled": true
   },
   "outputs": [
    {
     "data": {
      "text/plain": [
       "0.9151785714285714"
      ]
     },
     "execution_count": 46,
     "metadata": {},
     "output_type": "execute_result"
    }
   ],
   "source": [
    "f1(models['LogisticRegression'])"
   ]
  },
  {
   "cell_type": "code",
   "execution_count": 47,
   "id": "5cfc801e",
   "metadata": {},
   "outputs": [
    {
     "data": {
      "text/plain": [
       "0.9150363331470096"
      ]
     },
     "execution_count": 47,
     "metadata": {},
     "output_type": "execute_result"
    }
   ],
   "source": [
    "f1(models['Random Forest'])"
   ]
  },
  {
   "cell_type": "code",
   "execution_count": 48,
   "id": "961085a1",
   "metadata": {},
   "outputs": [
    {
     "data": {
      "text/plain": [
       "0.8980403294518603"
      ]
     },
     "execution_count": 48,
     "metadata": {},
     "output_type": "execute_result"
    }
   ],
   "source": [
    "f1(models['Bagging'])"
   ]
  },
  {
   "cell_type": "code",
   "execution_count": 49,
   "id": "9d43875b",
   "metadata": {
    "scrolled": true
   },
   "outputs": [
    {
     "data": {
      "text/plain": [
       "0.9206349206349206"
      ]
     },
     "execution_count": 49,
     "metadata": {},
     "output_type": "execute_result"
    }
   ],
   "source": [
    "f1(models['XGBoost'])"
   ]
  },
  {
   "cell_type": "markdown",
   "id": "dfac7623",
   "metadata": {},
   "source": [
    "### Tune the model\n",
    "---"
   ]
  },
  {
   "cell_type": "code",
   "execution_count": 50,
   "id": "9c6136b9",
   "metadata": {},
   "outputs": [],
   "source": [
    "md=7\n",
    "ca=0.05\n",
    "be=DecisionTreeClassifier(max_depth=md, ccp_alpha=ca)"
   ]
  },
  {
   "cell_type": "code",
   "execution_count": 51,
   "id": "9cf58644",
   "metadata": {},
   "outputs": [],
   "source": [
    "models1 = {\"LogisticRegression\": LogisticRegression(C=0.45, random_state=s),\n",
    "          \"Random Forest\": RandomForestClassifier(max_depth=md, ccp_alpha=ca, random_state=s),\n",
    "          \"Bagging\": BaggingClassifier(base_estimator=be, random_state=s),\n",
    "          \"XGBoost\": xgb.XGBClassifier(gamma=1, eta=0.05, max_depth=md, seed=s)\n",
    "         }"
   ]
  },
  {
   "cell_type": "code",
   "execution_count": 52,
   "id": "48fb866b",
   "metadata": {},
   "outputs": [
    {
     "name": "stdout",
     "output_type": "stream",
     "text": [
      "LogisticRegression Train Set Accuracy: 0.9349616189811584 \n",
      "    LogisticRegression Test Set Accuracy: 0.9060842433697348 \n",
      "\n",
      "Random Forest Train Set Accuracy: 0.656943475226797 \n",
      "    Random Forest Test Set Accuracy: 0.6820592823712949 \n",
      "\n",
      "Bagging Train Set Accuracy: 0.8258199581297976 \n",
      "    Bagging Test Set Accuracy: 0.8118564742589703 \n",
      "\n",
      "XGBoost Train Set Accuracy: 0.9376831821353803 \n",
      "    XGBoost Test Set Accuracy: 0.899219968798752 \n",
      "\n"
     ]
    }
   ],
   "source": [
    "for key, model in models1.items():\n",
    "    model.fit(X_train_s, y_train_s)\n",
    "    train_score = model.score(X_train_s, y_train_s)\n",
    "    test_score = model.score(X_test_tf, y_test)\n",
    "    print(f\"{key} Train Set Accuracy: {train_score} \\n\\\n",
    "    {key} Test Set Accuracy: {test_score} \\n\")"
   ]
  },
  {
   "cell_type": "markdown",
   "id": "8e9da923",
   "metadata": {},
   "source": [
    "#### Confusion Matrix"
   ]
  },
  {
   "cell_type": "code",
   "execution_count": 53,
   "id": "2fef581a",
   "metadata": {
    "scrolled": false
   },
   "outputs": [
    {
     "name": "stderr",
     "output_type": "stream",
     "text": [
      "C:\\Users\\ng_li\\anaconda3\\lib\\site-packages\\sklearn\\utils\\deprecation.py:87: FutureWarning: Function plot_confusion_matrix is deprecated; Function `plot_confusion_matrix` is deprecated in 1.0 and will be removed in 1.2. Use one of the class methods: ConfusionMatrixDisplay.from_predictions or ConfusionMatrixDisplay.from_estimator.\n",
      "  warnings.warn(msg, category=FutureWarning)\n"
     ]
    },
    {
     "data": {
      "image/png": "[encoded data removed]",
      "text/plain": [
       "<Figure size 432x288 with 2 Axes>"
      ]
     },
     "metadata": {
      "needs_background": "light"
     },
     "output_type": "display_data"
    }
   ],
   "source": [
    "plot_cm(models1['LogisticRegression'])"
   ]
  },
  {
   "cell_type": "code",
   "execution_count": 54,
   "id": "69932d87",
   "metadata": {},
   "outputs": [
    {
     "name": "stderr",
     "output_type": "stream",
     "text": [
      "C:\\Users\\ng_li\\anaconda3\\lib\\site-packages\\sklearn\\utils\\deprecation.py:87: FutureWarning: Function plot_confusion_matrix is deprecated; Function `plot_confusion_matrix` is deprecated in 1.0 and will be removed in 1.2. Use one of the class methods: ConfusionMatrixDisplay.from_predictions or ConfusionMatrixDisplay.from_estimator.\n",
      "  warnings.warn(msg, category=FutureWarning)\n"
     ]
    },
    {
     "data": {
      "image/png": "[encoded data removed]",
      "text/plain": [
       "<Figure size 432x288 with 2 Axes>"
      ]
     },
     "metadata": {
      "needs_background": "light"
     },
     "output_type": "display_data"
    }
   ],
   "source": [
    "plot_cm(models1['Random Forest'])"
   ]
  },
  {
   "cell_type": "code",
   "execution_count": 55,
   "id": "24b22b1a",
   "metadata": {},
   "outputs": [
    {
     "name": "stderr",
     "output_type": "stream",
     "text": [
      "C:\\Users\\ng_li\\anaconda3\\lib\\site-packages\\sklearn\\utils\\deprecation.py:87: FutureWarning: Function plot_confusion_matrix is deprecated; Function `plot_confusion_matrix` is deprecated in 1.0 and will be removed in 1.2. Use one of the class methods: ConfusionMatrixDisplay.from_predictions or ConfusionMatrixDisplay.from_estimator.\n",
      "  warnings.warn(msg, category=FutureWarning)\n"
     ]
    },
    {
     "data": {
      "image/png": "[encoded data removed]",
      "text/plain": [
       "<Figure size 432x288 with 2 Axes>"
      ]
     },
     "metadata": {
      "needs_background": "light"
     },
     "output_type": "display_data"
    }
   ],
   "source": [
    "plot_cm(models1['Bagging'])"
   ]
  },
  {
   "cell_type": "code",
   "execution_count": 56,
   "id": "7a569b98",
   "metadata": {
    "scrolled": true
   },
   "outputs": [
    {
     "name": "stderr",
     "output_type": "stream",
     "text": [
      "C:\\Users\\ng_li\\anaconda3\\lib\\site-packages\\sklearn\\utils\\deprecation.py:87: FutureWarning: Function plot_confusion_matrix is deprecated; Function `plot_confusion_matrix` is deprecated in 1.0 and will be removed in 1.2. Use one of the class methods: ConfusionMatrixDisplay.from_predictions or ConfusionMatrixDisplay.from_estimator.\n",
      "  warnings.warn(msg, category=FutureWarning)\n"
     ]
    },
    {
     "data": {
      "image/png": "[encoded data removed]",
      "text/plain": [
       "<Figure size 432x288 with 2 Axes>"
      ]
     },
     "metadata": {
      "needs_background": "light"
     },
     "output_type": "display_data"
    }
   ],
   "source": [
    "plot_cm(models1['XGBoost'])"
   ]
  },
  {
   "cell_type": "markdown",
   "id": "0f79edc3",
   "metadata": {},
   "source": [
    "#### F1 Score"
   ]
  },
  {
   "cell_type": "code",
   "execution_count": 57,
   "id": "1ce7f2b0",
   "metadata": {
    "scrolled": true
   },
   "outputs": [
    {
     "data": {
      "text/plain": [
       "0.9159921853195646"
      ]
     },
     "execution_count": 57,
     "metadata": {},
     "output_type": "execute_result"
    }
   ],
   "source": [
    "f1(models1['LogisticRegression'])"
   ]
  },
  {
   "cell_type": "code",
   "execution_count": 58,
   "id": "5fae0b67",
   "metadata": {},
   "outputs": [
    {
     "data": {
      "text/plain": [
       "0.7684617132469893"
      ]
     },
     "execution_count": 58,
     "metadata": {},
     "output_type": "execute_result"
    }
   ],
   "source": [
    "f1(models1['Random Forest'])"
   ]
  },
  {
   "cell_type": "code",
   "execution_count": 59,
   "id": "e0a1e5d2",
   "metadata": {},
   "outputs": [
    {
     "data": {
      "text/plain": [
       "0.8100787401574803"
      ]
     },
     "execution_count": 59,
     "metadata": {},
     "output_type": "execute_result"
    }
   ],
   "source": [
    "f1(models1['Bagging'])"
   ]
  },
  {
   "cell_type": "code",
   "execution_count": 60,
   "id": "4d8bdf80",
   "metadata": {
    "scrolled": false
   },
   "outputs": [
    {
     "data": {
      "text/plain": [
       "0.9082646975291111"
      ]
     },
     "execution_count": 60,
     "metadata": {},
     "output_type": "execute_result"
    }
   ],
   "source": [
    "f1(models1['XGBoost'])"
   ]
  },
  {
   "cell_type": "markdown",
   "id": "9934c10f",
   "metadata": {},
   "source": [
    "### Conclusion\n",
    "---"
   ]
  },
  {
   "cell_type": "markdown",
   "id": "49179c57",
   "metadata": {},
   "source": [
    "- The final Bagging model is the only model that meets all of our acceptance criteria.\n",
    "- Although the accuracy score and the F1 score is the second lowest, it has the smallest overfit value of 1 basis point which can be overlooked."
   ]
  },
  {
   "cell_type": "markdown",
   "id": "0eef1cbc",
   "metadata": {},
   "source": [
    "### Recommendations\n",
    "---"
   ]
  },
  {
   "cell_type": "markdown",
   "id": "d473a038",
   "metadata": {},
   "source": [
    "- We recommend to use Bagging with the below parameters to sort the data between \"Intermittentfasting\" and \"Keto\".\n",
    "    - base_estimator = DecisionTreeClassifier(max_depth=7, ccp_alpha=0.05)\n",
    "- From the earlier data analysis, it is found that there are many posts by new keto dieters seeking for advices.\n",
    "- These posts provide valuable insights to us when marketing and producing our new keto meal plan.\n",
    "- From these posts, we would be able to learn about the common challenges that the new keto dieters and introduce solutions to these challenges, thereby increase takeup rates for our new keto meal plan.\n",
    "- We could also explore placing ads targeted at these new keto dieters, to help them have an easier dieting journey."
   ]
  }
 ],
 "metadata": {
  "kernelspec": {
   "display_name": "Python 3 (ipykernel)",
   "language": "python",
   "name": "python3"
  },
  "language_info": {
   "codemirror_mode": {
    "name": "ipython",
    "version": 3
   },
   "file_extension": ".py",
   "mimetype": "text/x-python",
   "name": "python",
   "nbconvert_exporter": "python",
   "pygments_lexer": "ipython3",
   "version": "3.9.12"
  }
 },
 "nbformat": 4,
 "nbformat_minor": 5
}
